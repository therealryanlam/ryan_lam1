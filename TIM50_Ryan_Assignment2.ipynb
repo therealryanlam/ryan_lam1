{
  "nbformat": 4,
  "nbformat_minor": 0,
  "metadata": {
    "colab": {
      "provenance": [],
      "authorship_tag": "ABX9TyMw7KNpBexWJX7w4LwKeLO1",
      "include_colab_link": true
    },
    "kernelspec": {
      "name": "python3",
      "display_name": "Python 3"
    },
    "language_info": {
      "name": "python"
    }
  },
  "cells": [
    {
      "cell_type": "markdown",
      "metadata": {
        "id": "view-in-github",
        "colab_type": "text"
      },
      "source": [
        "<a href=\"https://colab.research.google.com/github/therealryanlam/ryan_lam1/blob/main/TIM50_Ryan_Assignment2.ipynb\" target=\"_parent\"><img src=\"https://colab.research.google.com/assets/colab-badge.svg\" alt=\"Open In Colab\"/></a>"
      ]
    },
    {
      "cell_type": "code",
      "source": [
        "(  Flight_Number INT,\n",
        "  Date VARCHAR(10),\n",
        "  Airline_Code VARCHAR(5),\n",
        "  Departure_Airport VARCHAR(3),\n",
        "  Arrival_Airport VARCHAR(3),\n",
        "  Scheduled_Departure VARCHAR(5),\n",
        "  Scheduled_Arrival VARCHAR(5),\n",
        "  Flight_Status VARCHAR(20)\n",
        ");"
      ],
      "metadata": {
        "colab": {
          "base_uri": "https://localhost:8080/",
          "height": 130
        },
        "id": "v0mIEkNKTJZo",
        "outputId": "2fd48b3e-bad5-474a-dcf2-f61b9327bfea"
      },
      "execution_count": 6,
      "outputs": [
        {
          "output_type": "error",
          "ename": "SyntaxError",
          "evalue": "ignored",
          "traceback": [
            "\u001b[0;36m  File \u001b[0;32m\"<ipython-input-6-4f6cf5a2f45d>\"\u001b[0;36m, line \u001b[0;32m1\u001b[0m\n\u001b[0;31m    (  Flight_Number INT,\u001b[0m\n\u001b[0m                     ^\u001b[0m\n\u001b[0;31mSyntaxError\u001b[0m\u001b[0;31m:\u001b[0m invalid syntax\n"
          ]
        }
      ]
    },
    {
      "cell_type": "code",
      "source": [
        "CREATE TABLE flights (\n",
        "  Flight_Number INT,\n",
        "  Date VARCHAR(10),\n",
        "  Airline_Code VARCHAR(5),\n",
        "  Departure_Airport VARCHAR(3),\n",
        "  Arrival_Airport VARCHAR(3),\n",
        "  Scheduled_Departure VARCHAR(5),\n",
        "  Scheduled_Arrival VARCHAR(5),\n",
        "  Flight_Status VARCHAR(20)\n",
        ");\n",
        "\n",
        "LOAD DATA INFILE 'flights-2.csv'\n",
        "INTO TABLE flights\n",
        "FIELDS TERMINATED BY ','\n",
        "LINES TERMINATED BY '\\n'\n",
        "IGNORE 1 ROWS;\n"
      ],
      "metadata": {
        "colab": {
          "base_uri": "https://localhost:8080/",
          "height": 130
        },
        "id": "GwIQtCK2TU0b",
        "outputId": "2373349f-0375-44ac-be14-244cdd8881cc"
      },
      "execution_count": 8,
      "outputs": [
        {
          "output_type": "error",
          "ename": "SyntaxError",
          "evalue": "ignored",
          "traceback": [
            "\u001b[0;36m  File \u001b[0;32m\"<ipython-input-8-3ad76f990fae>\"\u001b[0;36m, line \u001b[0;32m1\u001b[0m\n\u001b[0;31m    CREATE TABLE flights (\u001b[0m\n\u001b[0m           ^\u001b[0m\n\u001b[0;31mSyntaxError\u001b[0m\u001b[0;31m:\u001b[0m invalid syntax\n"
          ]
        }
      ]
    },
    {
      "cell_type": "code",
      "source": [
        "CREATE TABLE aircrafts (\n",
        "  Tail_Number VARCHAR(6),\n",
        "  Manufacturer VARCHAR(30),\n",
        "  Model VARCHAR(30),\n",
        "  Aircraft_Type VARCHAR(30),\n",
        "  Engine_Type VARCHAR(30)\n",
        ");\n",
        "\n",
        "LOAD DATA INFILE 'aircrafts.csv'\n",
        "INTO TABLE aircrafts\n",
        "FIELDS TERMINATED BY ','\n",
        "LINES TERMINATED BY '\\n'\n",
        "IGNORE 1 ROWS;\n"
      ],
      "metadata": {
        "colab": {
          "base_uri": "https://localhost:8080/",
          "height": 130
        },
        "id": "hu5RvojhULmo",
        "outputId": "cf7f5228-103d-4700-fff0-9dc6665606ff"
      },
      "execution_count": 9,
      "outputs": [
        {
          "output_type": "error",
          "ename": "SyntaxError",
          "evalue": "ignored",
          "traceback": [
            "\u001b[0;36m  File \u001b[0;32m\"<ipython-input-9-8c4edf036f9b>\"\u001b[0;36m, line \u001b[0;32m1\u001b[0m\n\u001b[0;31m    CREATE TABLE aircrafts (\u001b[0m\n\u001b[0m           ^\u001b[0m\n\u001b[0;31mSyntaxError\u001b[0m\u001b[0;31m:\u001b[0m invalid syntax\n"
          ]
        }
      ]
    },
    {
      "cell_type": "code",
      "source": [
        "SELECT * FROM flights LIMIT 5;\n",
        "SELECT * FROM aircrafts LIMIT 5;\n"
      ],
      "metadata": {
        "colab": {
          "base_uri": "https://localhost:8080/",
          "height": 130
        },
        "id": "2Tx8lrLPUYVE",
        "outputId": "c14195bd-1bcb-4faa-e5df-c3204f923b6b"
      },
      "execution_count": 10,
      "outputs": [
        {
          "output_type": "error",
          "ename": "SyntaxError",
          "evalue": "ignored",
          "traceback": [
            "\u001b[0;36m  File \u001b[0;32m\"<ipython-input-10-36f04ab5bd0f>\"\u001b[0;36m, line \u001b[0;32m1\u001b[0m\n\u001b[0;31m    SELECT * FROM flights LIMIT 5;\u001b[0m\n\u001b[0m                  ^\u001b[0m\n\u001b[0;31mSyntaxError\u001b[0m\u001b[0;31m:\u001b[0m invalid syntax\n"
          ]
        }
      ]
    },
    {
      "cell_type": "code",
      "source": [
        "DESC flights;\n",
        "DESC aircrafts;\n"
      ],
      "metadata": {
        "colab": {
          "base_uri": "https://localhost:8080/",
          "height": 130
        },
        "id": "s0ChbKgYUek5",
        "outputId": "49753ddb-0007-419c-818a-db301afe71ee"
      },
      "execution_count": 11,
      "outputs": [
        {
          "output_type": "error",
          "ename": "SyntaxError",
          "evalue": "ignored",
          "traceback": [
            "\u001b[0;36m  File \u001b[0;32m\"<ipython-input-11-ad1846c1afd8>\"\u001b[0;36m, line \u001b[0;32m1\u001b[0m\n\u001b[0;31m    DESC flights;\u001b[0m\n\u001b[0m         ^\u001b[0m\n\u001b[0;31mSyntaxError\u001b[0m\u001b[0;31m:\u001b[0m invalid syntax\n"
          ]
        }
      ]
    },
    {
      "cell_type": "code",
      "source": [
        "SELECT COUNT(*) FROM flights;\n",
        "SELECT COUNT(*) FROM aircrafts;\n"
      ],
      "metadata": {
        "colab": {
          "base_uri": "https://localhost:8080/",
          "height": 130
        },
        "id": "rkAxE7BXUiXH",
        "outputId": "63687c15-9816-449b-9cc9-58828ec91740"
      },
      "execution_count": 12,
      "outputs": [
        {
          "output_type": "error",
          "ename": "SyntaxError",
          "evalue": "ignored",
          "traceback": [
            "\u001b[0;36m  File \u001b[0;32m\"<ipython-input-12-f85d92ba685d>\"\u001b[0;36m, line \u001b[0;32m1\u001b[0m\n\u001b[0;31m    SELECT COUNT(*) FROM flights;\u001b[0m\n\u001b[0m           ^\u001b[0m\n\u001b[0;31mSyntaxError\u001b[0m\u001b[0;31m:\u001b[0m invalid syntax\n"
          ]
        }
      ]
    },
    {
      "cell_type": "code",
      "source": [
        "SELECT COUNT(22) FROM flights;\n",
        "SELECT COUNT('20', 'UA', 'San Jose', 'London' Date) FROM flights;\n",
        "SELECT COUNT(DISTINCT Airline_Code) FROM flights;\n",
        "SELECT COUNT(DISTINCT Departure_Airport) FROM flights;\n",
        "SELECT COUNT(DISTINCT Arrival_Airport) FROM flights;\n",
        "SELECT COUNT(DISTINCT Scheduled_Departure) FROM flights;\n",
        "SELECT COUNT(DISTINCT Scheduled_Arrival) FROM flights;\n",
        "SELECT COUNT(DISTINCT Flight_Status) FROM flights;\n"
      ],
      "metadata": {
        "id": "4FsBQQNuU7V9"
      },
      "execution_count": null,
      "outputs": []
    },
    {
      "cell_type": "code",
      "source": [
        "DROP TABLE IF EXISTS flights;\n",
        "CREATE TABLE flights (\n",
        "  Flight_Number INT PRIMARY KEY,\n",
        "  Date DATE,\n",
        "  Airline_Code VARCHAR(5),\n",
        "  Departure_Airport VARCHAR(3),\n",
        "  Arrival_Airport VARCHAR(3),\n",
        "  Scheduled_Departure TIME,\n",
        "  Scheduled_Arrival TIME,\n",
        "  Flight_Status VARCHAR(20)\n",
        ");\n",
        "\n",
        "DROP TABLE IF EXISTS aircrafts;\n",
        "CREATE TABLE aircrafts (\n",
        "  Tail_Number VARCHAR(6) PRIMARY KEY,\n",
        "  Manufacturer VARCHAR(30),\n",
        "  Model VARCHAR(30),\n",
        "  Aircraft_Type VARCHAR(30),\n",
        "  Engine_Type VARCHAR(30)\n",
        ");\n"
      ],
      "metadata": {
        "colab": {
          "base_uri": "https://localhost:8080/",
          "height": 130
        },
        "id": "o9CjNfiDVXBs",
        "outputId": "0294ac87-1212-467a-cdd7-59870aadf412"
      },
      "execution_count": 13,
      "outputs": [
        {
          "output_type": "error",
          "ename": "SyntaxError",
          "evalue": "ignored",
          "traceback": [
            "\u001b[0;36m  File \u001b[0;32m\"<ipython-input-13-2d4b0ee9a2b2>\"\u001b[0;36m, line \u001b[0;32m1\u001b[0m\n\u001b[0;31m    DROP TABLE IF EXISTS flights;\u001b[0m\n\u001b[0m         ^\u001b[0m\n\u001b[0;31mSyntaxError\u001b[0m\u001b[0;31m:\u001b[0m invalid syntax\n"
          ]
        }
      ]
    },
    {
      "cell_type": "code",
      "source": [
        "SELECT SUM(Passengers) \n",
        "FROM flights \n",
        "WHERE Departure_Airport = 'DEN' AND Arrival_Airport = 'SFO' AND Stops = 0;\n"
      ],
      "metadata": {
        "colab": {
          "base_uri": "https://localhost:8080/",
          "height": 130
        },
        "id": "SZictWKgVbg8",
        "outputId": "fba59ce5-fbc7-4eea-fb86-e859eaf66492"
      },
      "execution_count": 14,
      "outputs": [
        {
          "output_type": "error",
          "ename": "SyntaxError",
          "evalue": "ignored",
          "traceback": [
            "\u001b[0;36m  File \u001b[0;32m\"<ipython-input-14-2a9fd56bbd65>\"\u001b[0;36m, line \u001b[0;32m1\u001b[0m\n\u001b[0;31m    SELECT SUM(Passengers)\u001b[0m\n\u001b[0m           ^\u001b[0m\n\u001b[0;31mSyntaxError\u001b[0m\u001b[0;31m:\u001b[0m invalid syntax\n"
          ]
        }
      ]
    },
    {
      "cell_type": "code",
      "source": [
        "SELECT MAX(Passengers) \n",
        "FROM flights \n",
        "WHERE (Departure_Airport = 'DEN' OR Departure_Airport = 'SAN') \n",
        "AND Arrival_Airport = 'SFO' \n",
        "AND Aircraft LIKE '7%';\n"
      ],
      "metadata": {
        "colab": {
          "base_uri": "https://localhost:8080/",
          "height": 130
        },
        "id": "0GYMns7sXIda",
        "outputId": "77977a28-f2c7-4431-c212-fe111a0f498d"
      },
      "execution_count": 15,
      "outputs": [
        {
          "output_type": "error",
          "ename": "SyntaxError",
          "evalue": "ignored",
          "traceback": [
            "\u001b[0;36m  File \u001b[0;32m\"<ipython-input-15-8be3b5ffa436>\"\u001b[0;36m, line \u001b[0;32m1\u001b[0m\n\u001b[0;31m    SELECT MAX(Passengers)\u001b[0m\n\u001b[0m           ^\u001b[0m\n\u001b[0;31mSyntaxError\u001b[0m\u001b[0;31m:\u001b[0m invalid syntax\n"
          ]
        }
      ]
    }
  ]
}
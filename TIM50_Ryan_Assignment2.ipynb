{
  "nbformat": 4,
  "nbformat_minor": 0,
  "metadata": {
    "colab": {
      "provenance": [],
      "authorship_tag": "ABX9TyMw7KNpBexWJX7w4LwKeLO1",
      "include_colab_link": true
    },
    "kernelspec": {
      "name": "python3",
      "display_name": "Python 3"
    },
    "language_info": {
      "name": "python"
    }
  },
  "cells": [
    {
      "cell_type": "markdown",
      "metadata": {
        "id": "view-in-github",
        "colab_type": "text"
      },
      "source": [
        "<a href=\"https://colab.research.google.com/github/therealryanlam/ryan_lam1/blob/main/TIM50_Ryan_Assignment2.ipynb\" target=\"_parent\"><img src=\"https://colab.research.google.com/assets/colab-badge.svg\" alt=\"Open In Colab\"/></a>"
      ]
    },
    {
      "cell_type": "code",
      "source": [
        "(  Flight_Number INT,\n",
        "  Date VARCHAR(10),\n",
        "  Airline_Code VARCHAR(5),\n",
        "  Departure_Airport VARCHAR(3),\n",
        "  Arrival_Airport VARCHAR(3),\n",
        "  Scheduled_Departure VARCHAR(5),\n",
        "  Scheduled_Arrival VARCHAR(5),\n",
        "  Flight_Status VARCHAR(20)\n",
        ");"
      ],
      "metadata": {
        "id": "v0mIEkNKTJZo"
      },
      "execution_count": null,
      "outputs": []
    },
    {
      "cell_type": "code",
      "source": [
        "CREATE TABLE flights (\n",
        "  Flight_Number INT,\n",
        "  Date VARCHAR(10),\n",
        "  Airline_Code VARCHAR(5),\n",
        "  Departure_Airport VARCHAR(3),\n",
        "  Arrival_Airport VARCHAR(3),\n",
        "  Scheduled_Departure VARCHAR(5),\n",
        "  Scheduled_Arrival VARCHAR(5),\n",
        "  Flight_Status VARCHAR(20)\n",
        ");\n",
        "\n",
        "LOAD DATA INFILE 'flights-2.csv'\n",
        "INTO TABLE flights\n",
        "FIELDS TERMINATED BY ','\n",
        "LINES TERMINATED BY '\\n'\n",
        "IGNORE 1 ROWS;\n"
      ],
      "metadata": {
        "id": "GwIQtCK2TU0b"
      },
      "execution_count": null,
      "outputs": []
    },
    {
      "cell_type": "code",
      "source": [
        "CREATE TABLE aircrafts (\n",
        "  Tail_Number VARCHAR(6),\n",
        "  Manufacturer VARCHAR(30),\n",
        "  Model VARCHAR(30),\n",
        "  Aircraft_Type VARCHAR(30),\n",
        "  Engine_Type VARCHAR(30)\n",
        ");\n",
        "\n",
        "LOAD DATA INFILE 'aircrafts.csv'\n",
        "INTO TABLE aircrafts\n",
        "FIELDS TERMINATED BY ','\n",
        "LINES TERMINATED BY '\\n'\n",
        "IGNORE 1 ROWS;\n"
      ],
      "metadata": {
        "id": "hu5RvojhULmo"
      },
      "execution_count": null,
      "outputs": []
    },
    {
      "cell_type": "code",
      "source": [
        "SELECT * FROM flights LIMIT 5;\n",
        "SELECT * FROM aircrafts LIMIT 5;\n"
      ],
      "metadata": {
        "id": "2Tx8lrLPUYVE"
      },
      "execution_count": null,
      "outputs": []
    },
    {
      "cell_type": "code",
      "source": [
        "DESC flights;\n",
        "DESC aircrafts;\n"
      ],
      "metadata": {
        "id": "s0ChbKgYUek5"
      },
      "execution_count": null,
      "outputs": []
    },
    {
      "cell_type": "code",
      "source": [
        "SELECT COUNT(*) FROM flights;\n",
        "SELECT COUNT(*) FROM aircrafts;\n"
      ],
      "metadata": {
        "id": "rkAxE7BXUiXH"
      },
      "execution_count": null,
      "outputs": []
    },
    {
      "cell_type": "code",
      "source": [
        "SELECT COUNT(22) FROM flights;\n",
        "SELECT COUNT('20', 'UA', 'San Jose', 'London' Date) FROM flights;\n",
        "SELECT COUNT(DISTINCT Airline_Code) FROM flights;\n",
        "SELECT COUNT(DISTINCT Departure_Airport) FROM flights;\n",
        "SELECT COUNT(DISTINCT Arrival_Airport) FROM flights;\n",
        "SELECT COUNT(DISTINCT Scheduled_Departure) FROM flights;\n",
        "SELECT COUNT(DISTINCT Scheduled_Arrival) FROM flights;\n",
        "SELECT COUNT(DISTINCT Flight_Status) FROM flights;\n"
      ],
      "metadata": {
        "id": "4FsBQQNuU7V9"
      },
      "execution_count": null,
      "outputs": []
    },
    {
      "cell_type": "code",
      "source": [
        "DROP TABLE IF EXISTS flights;\n",
        "CREATE TABLE flights (\n",
        "  Flight_Number INT PRIMARY KEY,\n",
        "  Date DATE,\n",
        "  Airline_Code VARCHAR(5),\n",
        "  Departure_Airport VARCHAR(3),\n",
        "  Arrival_Airport VARCHAR(3),\n",
        "  Scheduled_Departure TIME,\n",
        "  Scheduled_Arrival TIME,\n",
        "  Flight_Status VARCHAR(20)\n",
        ");\n",
        "\n",
        "DROP TABLE IF EXISTS aircrafts;\n",
        "CREATE TABLE aircrafts (\n",
        "  Tail_Number VARCHAR(6) PRIMARY KEY,\n",
        "  Manufacturer VARCHAR(30),\n",
        "  Model VARCHAR(30),\n",
        "  Aircraft_Type VARCHAR(30),\n",
        "  Engine_Type VARCHAR(30)\n",
        ");\n"
      ],
      "metadata": {
        "id": "o9CjNfiDVXBs"
      },
      "execution_count": null,
      "outputs": []
    },
    {
      "cell_type": "code",
      "source": [
        "SELECT SUM(Passengers) \n",
        "FROM flights \n",
        "WHERE Departure_Airport = 'DEN' AND Arrival_Airport = 'SFO' AND Stops = 0;\n"
      ],
      "metadata": {
        "id": "SZictWKgVbg8"
      },
      "execution_count": null,
      "outputs": []
    },
    {
      "cell_type": "code",
      "source": [
        "SELECT MAX(Passengers) \n",
        "FROM flights \n",
        "WHERE (Departure_Airport = 'DEN' OR Departure_Airport = 'SAN') \n",
        "AND Arrival_Airport = 'SFO' \n",
        "AND Aircraft LIKE '7%';\n"
      ],
      "metadata": {
        "id": "0GYMns7sXIda"
      },
      "execution_count": null,
      "outputs": []
    }
  ]
}